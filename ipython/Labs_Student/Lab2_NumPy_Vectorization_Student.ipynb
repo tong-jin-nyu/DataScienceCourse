{
 "cells": [
  {
   "cell_type": "code",
   "execution_count": 2,
   "metadata": {},
   "outputs": [],
   "source": [
    "import warnings\n",
    "warnings.filterwarnings('ignore')\n",
    "import numpy as np\n",
    "import matplotlib.pyplot as plt\n",
    "%matplotlib inline"
   ]
  },
  {
   "cell_type": "markdown",
   "metadata": {},
   "source": [
    "First we'll generate a random matrix"
   ]
  },
  {
   "cell_type": "code",
   "execution_count": 3,
   "metadata": {},
   "outputs": [],
   "source": [
    "#Number of columns (features)\n",
    "K = 5\n",
    "\n",
    "#Number of records\n",
    "N = 1000\n",
    "\n",
    "#Generate an NxK matrix of uniform random variables\n",
    "X = np.random.random([N, K])"
   ]
  },
  {
   "cell_type": "markdown",
   "metadata": {},
   "source": [
    "Let's peak at our data to confirm it looks as we expect it"
   ]
  },
  {
   "cell_type": "code",
   "execution_count": 6,
   "metadata": {},
   "outputs": [
    {
     "data": {
      "text/plain": [
       "array([[0.30836694, 0.04837577, 0.93699911, 0.26428826, 0.55872892],\n",
       "       [0.73225605, 0.72210829, 0.51505308, 0.78307195, 0.53506735],\n",
       "       [0.17381423, 0.85154357, 0.42948304, 0.38171179, 0.24828926],\n",
       "       [0.5293512 , 0.25525751, 0.66755257, 0.56028292, 0.53741451],\n",
       "       [0.36699359, 0.25528894, 0.4636911 , 0.72946022, 0.18636725],\n",
       "       [0.17153319, 0.48907034, 0.30941511, 0.21515362, 0.29245132],\n",
       "       [0.34756898, 0.76578497, 0.47208532, 0.51108637, 0.74456359],\n",
       "       [0.74813877, 0.42920343, 0.45708245, 0.12975595, 0.31187473],\n",
       "       [0.8261096 , 0.42631487, 0.84104924, 0.63558206, 0.42273606],\n",
       "       [0.4336106 , 0.21221054, 0.07713417, 0.29376123, 0.20414354],\n",
       "       [0.22002398, 0.63331219, 0.56572162, 0.7284822 , 0.24819525],\n",
       "       [0.04419307, 0.55950358, 0.2040742 , 0.88066272, 0.44150773],\n",
       "       [0.23786785, 0.1811336 , 0.91739482, 0.65361985, 0.72568641],\n",
       "       [0.80616907, 0.33685645, 0.80911269, 0.83007857, 0.94508176],\n",
       "       [0.76132707, 0.23040903, 0.37286899, 0.69838499, 0.29854038],\n",
       "       [0.17676545, 0.28271112, 0.52002908, 0.96321793, 0.29810063],\n",
       "       [0.26043915, 0.43294064, 0.77463052, 0.48620776, 0.24625198],\n",
       "       [0.51778884, 0.63489737, 0.65037822, 0.47974345, 0.50605008],\n",
       "       [0.71949431, 0.28580005, 0.10642968, 0.78680768, 0.07994289],\n",
       "       [0.05408408, 0.23123386, 0.5206509 , 0.15508585, 0.80275127],\n",
       "       [0.07376223, 0.04501599, 0.51371131, 0.44813715, 0.17803793],\n",
       "       [0.52853534, 0.05282975, 0.41204154, 0.89608701, 0.05000436],\n",
       "       [0.32906662, 0.18042747, 0.40251105, 0.51389075, 0.78213862],\n",
       "       [0.954409  , 0.27116928, 0.11509114, 0.09191673, 0.2868747 ],\n",
       "       [0.30983092, 0.00712633, 0.33531363, 0.30055199, 0.61401934],\n",
       "       [0.78836885, 0.29425257, 0.67832274, 0.41469992, 0.73232164],\n",
       "       [0.85399002, 0.87714793, 0.70820712, 0.2786811 , 0.54779024],\n",
       "       [0.14605302, 0.22175358, 0.3074173 , 0.32598384, 0.34687632],\n",
       "       [0.80185468, 0.04525136, 0.88184414, 0.74624308, 0.68881521],\n",
       "       [0.95611772, 0.42982867, 0.82659869, 0.19174699, 0.65707525],\n",
       "       [0.14293426, 0.13305631, 0.49010385, 0.7069518 , 0.5329096 ],\n",
       "       [0.22657964, 0.64300573, 0.47061059, 0.82988637, 0.70466645],\n",
       "       [0.83180571, 0.45781171, 0.16631359, 0.78272959, 0.68084321],\n",
       "       [0.59804824, 0.66678022, 0.61541796, 0.97022033, 0.6547299 ],\n",
       "       [0.63606688, 0.08165632, 0.84100723, 0.44389557, 0.4109173 ],\n",
       "       [0.45065211, 0.22644871, 0.00786729, 0.63242263, 0.22345041],\n",
       "       [0.38345763, 0.013546  , 0.56636627, 0.51564208, 0.98979754],\n",
       "       [0.17972378, 0.9601616 , 0.84853236, 0.27308228, 0.44788184],\n",
       "       [0.96279938, 0.90952801, 0.38912417, 0.6258755 , 0.3982303 ],\n",
       "       [0.08288167, 0.93654752, 0.9260583 , 0.10431464, 0.07408358],\n",
       "       [0.3160579 , 0.56041151, 0.10824578, 0.82397092, 0.80903485],\n",
       "       [0.26838693, 0.17590067, 0.07865713, 0.26889163, 0.28798629],\n",
       "       [0.48951796, 0.65126818, 0.75202985, 0.72052304, 0.40092809],\n",
       "       [0.43336715, 0.22074107, 0.48209876, 0.21870428, 0.34547254],\n",
       "       [0.0966082 , 0.43058809, 0.92007615, 0.70398956, 0.32124214],\n",
       "       [0.75526063, 0.01227925, 0.47904343, 0.10803199, 0.9765041 ],\n",
       "       [0.48478575, 0.71833686, 0.78989099, 0.15484964, 0.38152547],\n",
       "       [0.32412601, 0.23807056, 0.43642312, 0.82229866, 0.02113352],\n",
       "       [0.26401577, 0.78554511, 0.44181038, 0.6587365 , 0.45901897],\n",
       "       [0.5724539 , 0.37292002, 0.98145466, 0.01076798, 0.05477627],\n",
       "       [0.90844418, 0.33909707, 0.41452245, 0.79897491, 0.34855977],\n",
       "       [0.96009054, 0.65351838, 0.75081449, 0.27891948, 0.32448259],\n",
       "       [0.69731487, 0.88509648, 0.33339826, 0.76659252, 0.67097597],\n",
       "       [0.16574843, 0.22927383, 0.11873212, 0.00969576, 0.63971088],\n",
       "       [0.99692307, 0.78659399, 0.75237469, 0.75301134, 0.17470465],\n",
       "       [0.49341812, 0.51306771, 0.03991458, 0.65334473, 0.96586907],\n",
       "       [0.9236092 , 0.67915804, 0.31555373, 0.33234976, 0.18106067],\n",
       "       [0.33199354, 0.93517696, 0.58540291, 0.99472364, 0.67923024],\n",
       "       [0.37502109, 0.79842835, 0.01325358, 0.14412689, 0.09235676],\n",
       "       [0.25475484, 0.3959457 , 0.77376841, 0.27386043, 0.36103193],\n",
       "       [0.08846902, 0.37186206, 0.73876899, 0.64374765, 0.09576054],\n",
       "       [0.08409765, 0.14700512, 0.88048825, 0.31972097, 0.86820838],\n",
       "       [0.11968185, 0.20478724, 0.4939235 , 0.94395634, 0.79577517],\n",
       "       [0.0665102 , 0.96789103, 0.1628845 , 0.34626508, 0.12987999],\n",
       "       [0.5851751 , 0.8318725 , 0.73822132, 0.18882265, 0.59325541],\n",
       "       [0.84130345, 0.08073548, 0.83400798, 0.41084059, 0.53661477],\n",
       "       [0.30018872, 0.46781771, 0.39063357, 0.08741261, 0.63908266],\n",
       "       [0.0603611 , 0.66094477, 0.70440514, 0.6619683 , 0.17330494],\n",
       "       [0.67005161, 0.08558172, 0.78605596, 0.7171483 , 0.7018899 ],\n",
       "       [0.67475863, 0.88269947, 0.00998423, 0.76323831, 0.0778365 ],\n",
       "       [0.94090607, 0.07446745, 0.11036679, 0.85377675, 0.08273947],\n",
       "       [0.05916307, 0.37618151, 0.11512661, 0.97071278, 0.17223207],\n",
       "       [0.77255991, 0.74168498, 0.68804253, 0.14408473, 0.5194015 ],\n",
       "       [0.76905255, 0.99318808, 0.0795437 , 0.82979313, 0.55838144],\n",
       "       [0.37840165, 0.98424855, 0.97121759, 0.0348294 , 0.54484156],\n",
       "       [0.8235628 , 0.27258817, 0.17220927, 0.68167581, 0.59134607],\n",
       "       [0.87833605, 0.40526531, 0.70953813, 0.75343293, 0.21569884],\n",
       "       [0.53117251, 0.20719845, 0.19325387, 0.55058137, 0.36460683],\n",
       "       [0.76337797, 0.24900879, 0.71390217, 0.59879215, 0.20262907],\n",
       "       [0.34832532, 0.82344354, 0.16676911, 0.84071041, 0.9485962 ],\n",
       "       [0.18245733, 0.15741888, 0.37871877, 0.22113367, 0.6611742 ],\n",
       "       [0.52687022, 0.92210117, 0.86490959, 0.87066766, 0.18798408],\n",
       "       [0.11189104, 0.85558056, 0.54456669, 0.46786965, 0.54237359],\n",
       "       [0.04835096, 0.35992949, 0.73015971, 0.2940358 , 0.43518158],\n",
       "       [0.35061182, 0.69341892, 0.27167282, 0.37855537, 0.60725309],\n",
       "       [0.17626318, 0.59575902, 0.73587543, 0.59240371, 0.66613859],\n",
       "       [0.00582232, 0.79491403, 0.90786594, 0.34803348, 0.34175316],\n",
       "       [0.53684139, 0.74572298, 0.18626425, 0.7119707 , 0.76614004],\n",
       "       [0.29805829, 0.21550398, 0.48158831, 0.37209828, 0.88617809],\n",
       "       [0.36934168, 0.92449783, 0.34833669, 0.56259953, 0.34234029],\n",
       "       [0.41227518, 0.83808986, 0.38121549, 0.3685981 , 0.83274038],\n",
       "       [0.91221239, 0.64059077, 0.05769664, 0.31177539, 0.39539835],\n",
       "       [0.45173198, 0.53226359, 0.85698986, 0.69320426, 0.43858924],\n",
       "       [0.8704407 , 0.10985656, 0.32797416, 0.83460259, 0.09088302],\n",
       "       [0.4226078 , 0.777665  , 0.24471554, 0.72690354, 0.46648325],\n",
       "       [0.15547198, 0.64416396, 0.00334185, 0.69756245, 0.85856101],\n",
       "       [0.45792064, 0.33274275, 0.43056652, 0.87872516, 0.57315779],\n",
       "       [0.81615103, 0.52542543, 0.01979384, 0.17046099, 0.71016439],\n",
       "       [0.44674959, 0.72142025, 0.22499291, 0.65550604, 0.26737079],\n",
       "       [0.75972101, 0.3614936 , 0.91042401, 0.05335598, 0.53397929]])"
      ]
     },
     "execution_count": 6,
     "metadata": {},
     "output_type": "execute_result"
    }
   ],
   "source": [
    "#Student - Put in a command to view the first 100 rows\n",
    "X[ : 100]"
   ]
  },
  {
   "cell_type": "code",
   "execution_count": 8,
   "metadata": {},
   "outputs": [
    {
     "data": {
      "text/plain": [
       "(1000, 5)"
      ]
     },
     "execution_count": 8,
     "metadata": {},
     "output_type": "execute_result"
    }
   ],
   "source": [
    "#Student - put in a command to see the dimensions of X\n",
    "X.shape"
   ]
  },
  {
   "cell_type": "markdown",
   "metadata": {},
   "source": [
    "This exercise is about designing a scoring function for a logistic regression. As we are not concerned with fitting a model to data, we can just make up a logistic regression. <br> <br>\n",
    "\n",
    "For quick intro, the Logistic Regression takes the form of $\\hat{Y} = f(x * \\beta^T)$, where $x$ is the $1xK$ vector of features and $\\beta$ is the $1xK$ vector of weights. The function $f$, called a 'link' function, is the inverse logit: <br><br>\n",
    "\n",
    "<center>$f(a)=\\frac{1}{1+e^{-a}}$</center> <br><br>\n",
    "\n",
    "In this notebook we'll write a function that, given inputs of $X$ and $\\beta$, returns a value for $\\hat{Y}$.\n",
    "<br><br>\n",
    "First let's generate a random set of weights to represent $\\beta$.\n"
   ]
  },
  {
   "cell_type": "code",
   "execution_count": 14,
   "metadata": {},
   "outputs": [
    {
     "data": {
      "text/plain": [
       "array([-0.76995553,  0.25396307,  0.46528435,  0.82754178,  0.45977547])"
      ]
     },
     "execution_count": 14,
     "metadata": {},
     "output_type": "execute_result"
    }
   ],
   "source": [
    "#Student - generate a K dimensional vector of uniform random variables in the interval [-1, 1]\n",
    "beta = 2 * (np.random.random_sample(K) - 1/2)\n",
    "beta"
   ]
  },
  {
   "cell_type": "markdown",
   "metadata": {},
   "source": [
    "Notice how we applied a neat NumPy trick here. The numpy.random.random() function returns an array, yet we applied what appears to be a scalar operation on the vector. This is an example of what NumPy calls vectorization (a major point of this tutorial), which offers us both a very fast way to do run vector computations as well as a clean and concise method of coding. \n",
    "\n",
    "<br><br>\n",
    "\n",
    "<b>Question: we designed the above $beta$ vector such that $E[\\beta_i]=0$. How can we confirm that we did this correctly?</b>"
   ]
  },
  {
   "cell_type": "code",
   "execution_count": 15,
   "metadata": {},
   "outputs": [
    {
     "data": {
      "text/plain": [
       "0.24732182879722794"
      ]
     },
     "execution_count": 15,
     "metadata": {},
     "output_type": "execute_result"
    }
   ],
   "source": [
    "#start by taking the mean of the beta we already calculated\n",
    "\n",
    "#Student - fill in command here\n",
    "beta.mean()\n"
   ]
  },
  {
   "cell_type": "code",
   "execution_count": 18,
   "metadata": {},
   "outputs": [],
   "source": [
    "#It is likely the above is not equal to zero. Let's simulate this 100k times and see what the distribution of means is\n",
    "#Student input code here\n",
    "sims = 100000\n",
    "means = []\n",
    "for i in range(sims):\n",
    "    means.append(2 * (np.random.random_sample(K) - 1/2).mean())"
   ]
  },
  {
   "cell_type": "markdown",
   "metadata": {},
   "source": [
    "Now let's use matplotlibs hist function to plot the histogram of means here. "
   ]
  },
  {
   "cell_type": "code",
   "execution_count": 19,
   "metadata": {},
   "outputs": [
    {
     "data": {
      "image/png": "[encoded data removed]",
      "text/plain": [
       "<Figure size 432x288 with 1 Axes>"
      ]
     },
     "metadata": {
      "needs_background": "light"
     },
     "output_type": "display_data"
    }
   ],
   "source": [
    "plt.hist(means)\n",
    "plt.show()"
   ]
  },
  {
   "cell_type": "markdown",
   "metadata": {},
   "source": [
    "We should expect the distribution to be centered around zero. Is it? As fun technical side, let's dive a little deeper into what this distribution should look like. The histogram shows a distribution of the average of a sample of 5 uniformly distributed random variables taken over N different samples. Can we compare this to a theoretical distribution?<br>\n",
    "\n",
    "Yes we can! We sampled each $\\beta_i$ from a uniform distribution over the interval $[-1, 1]$. The variance of a sample of uniformly distributed variables is given by $(1/12) * (b - a)^2$, where $b$ and $a$ are the min/max of the support interval. The standard error (or the standard deviation of the mean) of a sample of size K with with $Var(X) = \\sigma^2$ is $\\sigma / \\sqrt(K)$. <br>\n",
    "\n",
    "Given the above knowledge, we should expect our distribution of averages to be normally distributed with mean = 0 and var = $(12 * 5)^{-1} * (1 - (-1))^2 = 0.66667$. Let's compare this normal distribution to our sample above."
   ]
  },
  {
   "cell_type": "code",
   "execution_count": 20,
   "metadata": {},
   "outputs": [
    {
     "data": {
      "image/png": "[encoded data removed]",
      "text/plain": [
       "<Figure size 432x288 with 1 Axes>"
      ]
     },
     "metadata": {
      "needs_background": "light"
     },
     "output_type": "display_data"
    }
   ],
   "source": [
    "#Compute a vector from the normal distribution specified above\n",
    "from scipy.stats import norm\n",
    "mu = 0\n",
    "sig = np.sqrt(4 / 60.0) \n",
    "xs = np.linspace(-1, 1, 1000)\n",
    "ys = norm.pdf(xs, mu, sig) \n",
    "\n",
    "plt.hist(means, density = True)\n",
    "plt.plot(xs, ys)\n",
    "plt.show()\n"
   ]
  },
  {
   "cell_type": "markdown",
   "metadata": {},
   "source": [
    "Now let's write our scoring function. Let's try to use as much of Numpy's inner optimization as possible (hint, this can be done in two lines and without writing any loops). The key is that numpy functions that would normally take in a scalar can also take in an array, and the function applies the operations element wise to the array and returns an array. i.e.:"
   ]
  },
  {
   "cell_type": "code",
   "execution_count": 21,
   "metadata": {},
   "outputs": [
    {
     "data": {
      "text/plain": [
       "array([1, 1])"
      ]
     },
     "execution_count": 21,
     "metadata": {},
     "output_type": "execute_result"
    }
   ],
   "source": [
    "ex_array = np.array([-1, 1])\n",
    "np.abs(ex_array)"
   ]
  },
  {
   "cell_type": "markdown",
   "metadata": {},
   "source": [
    "Let's use this feature to write a fast and clean scoring function"
   ]
  },
  {
   "cell_type": "code",
   "execution_count": 22,
   "metadata": {},
   "outputs": [],
   "source": [
    "def score_logistic_regression(X, beta):\n",
    "    '''\n",
    "    This function takes in an NxK matrix X and 1xK vector beta.\n",
    "    The function should apply the logistic scoring function to each record of X.\n",
    "    The output should be an Nx1 vector of scores\n",
    "    '''\n",
    "    \n",
    "    #First let's calculate X*beta - make sure to use numpy's 'dot' method\n",
    "    #student - put in code here\n",
    "    xbeta = X.dot(beta)\n",
    "    #Now let's input this into the link function\n",
    "    #student - put in code here\n",
    "    prob_score = 1/(1 + np.exp(-1 * xbeta))\n",
    "    return prob_score"
   ]
  },
  {
   "cell_type": "markdown",
   "metadata": {},
   "source": [
    "So how much faster is it by using Numpy? We can test this be writing the same function that uses no Numpy and executes via loops."
   ]
  },
  {
   "cell_type": "code",
   "execution_count": null,
   "metadata": {},
   "outputs": [],
   "source": [
    "def score_logistic_regression_NoNumpy(X, beta):\n",
    "    '''\n",
    "    This function takes in an NxK matrix X and 1xK vector beta.\n",
    "    The function should apply the logistic scoring function to each record of X.\n",
    "    The output should be an Nx1 vector of scores\n",
    "    '''\n",
    "    #Let's calculate xbeta using loops\n",
    "    xbeta = []\n",
    "    for row in X:\n",
    "        \n",
    "        xb = 0\n",
    "        for i, el in enumerate(row):\n",
    "            #Student - compute X*Beta in the loop\n",
    "            xb += el * beta[i]\n",
    "        xbeta.append(xb)\n",
    "        \n",
    "    #Now let's apply the link function to each xbeta\n",
    "    prob_score = []\n",
    "    for xb in xbeta:\n",
    "        #student - compute p in the loop  \n",
    "        prob_score.append(p)\n",
    "        \n",
    "    return prob_score"
   ]
  },
  {
   "cell_type": "markdown",
   "metadata": {},
   "source": [
    "Before doing any analysis, let's test the output of each to make sure they equal"
   ]
  },
  {
   "cell_type": "code",
   "execution_count": null,
   "metadata": {},
   "outputs": [],
   "source": [
    "#Student - write a unit test that calls each function with the same inputs and checks to see they return the same values.\n",
    "\n",
    "diff = np.abs(score_logistic_regression(X, beta), score_logistic_regression(X, beta))\n",
    "print('mean absolute deviation = {}'.format(np.round(diff.sum(), )))"
   ]
  },
  {
   "cell_type": "markdown",
   "metadata": {},
   "source": [
    "If they equal then we can proceed with timing analysis"
   ]
  },
  {
   "cell_type": "code",
   "execution_count": null,
   "metadata": {},
   "outputs": [],
   "source": [
    "%timeit score_logistic_regression_NoNumpy(X, beta)"
   ]
  },
  {
   "cell_type": "code",
   "execution_count": null,
   "metadata": {},
   "outputs": [],
   "source": [
    "%timeit score_logistic_regression(X, beta)"
   ]
  },
  {
   "cell_type": "code",
   "execution_count": null,
   "metadata": {
    "collapsed": true
   },
   "outputs": [],
   "source": []
  }
 ],
 "metadata": {
  "anaconda-cloud": {},
  "kernelspec": {
   "display_name": "Python 3",
   "language": "python",
   "name": "python3"
  },
  "language_info": {
   "codemirror_mode": {
    "name": "ipython",
    "version": 3
   },
   "file_extension": ".py",
   "mimetype": "text/x-python",
   "name": "python",
   "nbconvert_exporter": "python",
   "pygments_lexer": "ipython3",
   "version": "3.7.6"
  }
 },
 "nbformat": 4,
 "nbformat_minor": 1
}
